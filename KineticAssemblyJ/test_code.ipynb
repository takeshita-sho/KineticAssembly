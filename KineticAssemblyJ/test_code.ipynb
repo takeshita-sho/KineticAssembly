{
 "cells": [
  {
   "cell_type": "code",
   "execution_count": null,
   "metadata": {},
   "outputs": [
    {
     "name": "stdout",
     "output_type": "stream",
     "text": [
      "Any[X1(t), X2(t), X3(t), X4(t), X1X2(t), X1X3(t), X1X4(t), X2X3(t), X2X4(t), X3X4(t), X1X2X3(t), X1X2X4(t), X1X3X4(t), X2X3X4(t), X1X2X3X4(t)]k1, X1 + X2 --> X3"
     ]
    }
   ],
   "source": [
    "using Catalyst\n",
    "using OrderedCollections\n",
    "using Catalyst.Combinatorics\n",
    "#this fucking works lfgggg\n",
    "\n",
    "t = Catalyst.DEFAULT_IV\n",
    "function funcsym(S::Symbol, t, args...)\n",
    "    S = Symbol(S,args...)\n",
    "    (@species $(S)(t))[1]\n",
    "end\n",
    "function gen_rates(n)\n",
    "    ptoids = OrderedDict{Symbol,Int}()\n",
    "    for i in 1:n\n",
    "        psym = Symbol(\"k\",i)\n",
    "        ptoids[psym] = i\n",
    "    end\n",
    "    return [(@parameters $psym)[1] for psym in keys(ptoids)]\n",
    "end\n",
    "function gen_species(n)\n",
    "    species=[]\n",
    "    for i in 1:n\n",
    "        push!(species, (funcsym(Symbol(\"X\",i),t)))\n",
    "    end\n",
    "    for size in 2:n\n",
    "        for combo in combinations(1:n, size)\n",
    "            name = join([\"X$i\" for i in combo])\n",
    "            push!(species, (funcsym(Symbol(name),t)))\n",
    "        end\n",
    "    end\n",
    "    return species#[(@parameters $s)[1] for s in species]\n",
    "end\n",
    "specs = gen_species(4)\n",
    "rates = gen_rates(4)\n",
    "print(specs)\n",
    "@parameters t\n",
    "print(Reaction(rates[1],[specs[1],specs[2]], [specs[3]]))\n",
    "\n",
    "\n",
    "\n"
   ]
  },
  {
   "cell_type": "code",
   "execution_count": null,
   "metadata": {},
   "outputs": [
    {
     "data": {
      "text/plain": [
       "generate_nmer_association (generic function with 1 method)"
      ]
     },
     "metadata": {},
     "output_type": "display_data"
    }
   ],
   "source": [
    "\n",
    "\n",
    "\n",
    "\n",
    "function generate_nmer_association(n)\n",
    "    #@parameters t\n",
    "    species_list = []\n",
    "    reactions = []\n",
    "    params = []\n",
    "    \n",
    "    # Start with monomer species X1 to Xn\n",
    "    for i in 1:n\n",
    "        push!(species_list, @species Symbol(\"X\",i))\n",
    "    end\n",
    "    \n",
    "    # Dictionary to keep track of complexes\n",
    "    complexes = Dict{}()\n",
    "    \n",
    "    # Generate reactions for associations and dissociations\n",
    "    for i in 2:n\n",
    "        # Define the complex species X[i-1]X[i]\n",
    "        @species Symbol(\"X$(i-1)_X$(i)(t)\")\n",
    "        complex_name = @species Symbol(\"X$(i-1)_X$(i)\")\n",
    "        complexes[(i-1, i)] = complex_name\n",
    "        push!(species_list, complex_name)\n",
    "        \n",
    "        # Define reaction parameters\n",
    "        k_on_sym = @parameters Symbol(\"k_on$(i)\")\n",
    "        k_off_sym = @parameters Symbol(\"k_off$(i)\")\n",
    "        push!(params, k_on_sym, k_off_sym)\n",
    "        @species Symbol(\"X$(i-1)(t)\")\n",
    "        @species Symbol(\"X$(i)(t)\")\n",
    "        print(Reaction(k_on_sym, [(Symbol(\"X$(i-1)\")), (Symbol(\"X$(i)\"))], [complex_name]))\n",
    "        # Association: X[i-1] + X[i] --> X[i-1]_X[i]\n",
    "        push!(reactions, Reaction(k_on_sym, [(@species Symbol(\"X$(i-1)\")), (@species Symbol(\"X$(i)\"))], [complex_name]))\n",
    "        \n",
    "        # Dissociation: X[i-1]_X[i] --> X[i-1] + X[i]\n",
    "        push!(reactions, Reaction(k_off_sym, [complex_name], [(@species Symbol(\"X$(i-1)\")), (@species Symbol(\"X$(i)\"))]))\n",
    "    end\n",
    "    println(reactions)\n",
    "    # Optionally, you can extend this to higher-order complexes\n",
    "    # For example, associate complexes with monomers to form larger complexes\n",
    "    # Below is an example of extending to higher-order complexes\n",
    "    for i in 3:n\n",
    "        prev_complex = complexes[(i-2, i-1)]\n",
    "        print(\"Hello\")\n",
    "        new_complex = @species Symbol(\"X$(i-2)_X$(i-1)_X$(i)\")\n",
    "        complexes[(i-2, i-1, i)] = new_complex\n",
    "        push!(species_list, new_complex)\n",
    "        \n",
    "        # Parameters for higher-order association/dissociation\n",
    "        k_on_sym = @species Symbol(\"k_on_complex$(i)\")\n",
    "        k_off_sym = @species Symbol(\"k_off_complex$(i)\")\n",
    "        push!(params, k_on_sym, k_off_sym)\n",
    "        \n",
    "        # Association: Previous Complex + X[i] --> New Complex\n",
    "        push!(reactions, Reaction(k_on_sym, [prev_complex, (@species Symbol(\"X$(i)\"))], [new_complex]))\n",
    "        \n",
    "        # Dissociation: New Complex --> Previous Complex + X[i]\n",
    "        push!(reactions, Reaction(k_off_sym, [new_complex], [prev_complex, (@species Symbol(\"X$(i)\"))]))\n",
    "\n",
    "    end\n",
    "    \n",
    "    # Create the ReactionSystem\n",
    "    rn = ReactionSystem(reactions, t, species_list, params)\n",
    "    return rn\n",
    "end"
   ]
  },
  {
   "cell_type": "code",
   "execution_count": 52,
   "metadata": {},
   "outputs": [
    {
     "ename": "ErrorException",
     "evalue": "Sym Symbol(X2(t)) is not callable. Use @syms Symbol(X2(t))(var1, var2,...) to create it as a callable.",
     "output_type": "error",
     "traceback": [
      "Sym Symbol(X2(t)) is not callable. Use @syms Symbol(X2(t))(var1, var2,...) to create it as a callable.\n",
      "\n",
      "Stacktrace:\n",
      " [1] error(s::String)\n",
      "   @ Base ./error.jl:35\n",
      " [2] (::SymbolicUtils.BasicSymbolic{Real})(args::String)\n",
      "   @ SymbolicUtils ~/.julia/packages/SymbolicUtils/jf8aQ/src/types.jl:920\n",
      " [3] (::Num)(args::String)\n",
      "   @ Symbolics ~/.julia/packages/Symbolics/GYV9b/src/num.jl:19\n",
      " [4] generate_nmer_association(n::Int64)\n",
      "   @ Main ~/KineticAssembly/KineticAssemblyJ/jl_notebook_cell_df34fa98e69747e1a8f8a730347b8e2f_W0sdnNjb2RlLXJlbW90ZQ==.jl:31\n",
      " [5] top-level scope\n",
      "   @ ~/KineticAssembly/KineticAssemblyJ/jl_notebook_cell_df34fa98e69747e1a8f8a730347b8e2f_W1sdnNjb2RlLXJlbW90ZQ==.jl:1"
     ]
    }
   ],
   "source": [
    "generate_nmer_association(3)"
   ]
  },
  {
   "cell_type": "code",
   "execution_count": 54,
   "metadata": {},
   "outputs": [
    {
     "ename": "UndefVarError",
     "evalue": "UndefVarError: `k_on_sym` not defined",
     "output_type": "error",
     "traceback": [
      "UndefVarError: `k_on_sym` not defined\n",
      "\n",
      "Stacktrace:\n",
      " [1] top-level scope\n",
      "   @ ~/KineticAssembly/KineticAssemblyJ/jl_notebook_cell_df34fa98e69747e1a8f8a730347b8e2f_W3sdnNjb2RlLXJlbW90ZQ==.jl:1"
     ]
    }
   ],
   "source": [
    "print(Reaction(k_on_sym, [(@parameters Symbol(\"X$(i-1)\")[1]), (@parameters Symbol(\"X$(i)\")[1])], [@parameters Symbol(\"X$(i-1)_X$(i)\")[1]]))"
   ]
  },
  {
   "cell_type": "code",
   "execution_count": null,
   "metadata": {},
   "outputs": [],
   "source": [
    "using Catalyst\n",
    "using DifferentialEquations\n",
    "using ModelingToolkit\n",
    "\n",
    "\n",
    "\n",
    "function get_fc_species_list(n::Int64)::Vector{Vector{Variable}}\n",
    "    X = @species X[1:n] # Creates an array of Variable objects\n",
    "    monomers = X\n",
    "    num_subsets = 2^n - 1\n",
    "    species_list = Vector{Vector{Variable}}(undef, num_subsets)\n",
    "    for i in 1:num_subsets\n",
    "        subset = Variable[]\n",
    "        for j in 1:n\n",
    "            if (i >> (j - 1)) & 1 == 1\n",
    "                push!(subset, monomers[j])\n",
    "            end\n",
    "        end\n",
    "        species_list[i] = subset\n",
    "    end\n",
    "    return species_list\n",
    "end\n",
    "\n",
    "function construct_reactions(n::Int64)\n",
    "    species_list = get_fc_species_list(n)\n",
    "    num_subsets = length(species_list)\n",
    "    k = @parameters k[1:num_subsets, 1:num_subsets] # Define rate constants as Parameters\n",
    "    rxs = Reaction[]\n",
    "    for i in 1:num_subsets\n",
    "        reactants = species_list[i]\n",
    "        for j in 1:num_subsets\n",
    "            products = species_list[j]\n",
    "            if reactants != products\n",
    "                rate_constant = k[i, j]\n",
    "                push!(rxs, Reaction(rate_constant, reactants, products))\n",
    "            end\n",
    "        end\n",
    "    end\n",
    "    return rxs\n",
    "end\n",
    "\n",
    "function get_fc_reaction_network(n::Int64)\n",
    "    t = @species t\n",
    "    rxs = construct_reactions(n)\n",
    "    rn = ReactionSystem(rxs, t)\n",
    "    return rn\n",
    "end"
   ]
  }
 ],
 "metadata": {
  "kernelspec": {
   "display_name": "Julia 1.10.0",
   "language": "julia",
   "name": "julia-1.10"
  },
  "language_info": {
   "file_extension": ".jl",
   "mimetype": "application/julia",
   "name": "julia",
   "version": "1.10.0"
  }
 },
 "nbformat": 4,
 "nbformat_minor": 2
}
